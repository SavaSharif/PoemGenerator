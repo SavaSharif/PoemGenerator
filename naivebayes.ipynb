{
 "cells": [
  {
   "cell_type": "code",
   "execution_count": 6,
   "metadata": {},
   "outputs": [
    {
     "name": "stderr",
     "output_type": "stream",
     "text": [
      "[nltk_data] Downloading package punkt to\n",
      "[nltk_data]     C:\\Users\\Sava\\AppData\\Roaming\\nltk_data...\n",
      "[nltk_data]   Package punkt is already up-to-date!\n",
      "[nltk_data] Downloading package averaged_perceptron_tagger to\n",
      "[nltk_data]     C:\\Users\\Sava\\AppData\\Roaming\\nltk_data...\n",
      "[nltk_data]   Package averaged_perceptron_tagger is already up-to-\n",
      "[nltk_data]       date!\n",
      "[nltk_data] Downloading package cmudict to\n",
      "[nltk_data]     C:\\Users\\Sava\\AppData\\Roaming\\nltk_data...\n",
      "[nltk_data]   Package cmudict is already up-to-date!\n"
     ]
    },
    {
     "data": {
      "text/plain": [
       "True"
      ]
     },
     "execution_count": 6,
     "metadata": {},
     "output_type": "execute_result"
    }
   ],
   "source": [
    "import numpy as np\n",
    "import pandas as pd\n",
    "import matplotlib.pyplot as plt\n",
    "import nltk as nl\n",
    "from sklearn import naive_bayes\n",
    "import seaborn as sns\n",
    "from nltk.classify.scikitlearn import SklearnClassifier\n",
    "\n",
    "\n",
    "nl.download('punkt')\n",
    "nl.download('averaged_perceptron_tagger')\n",
    "nl.download('cmudict')\n"
   ]
  },
  {
   "cell_type": "code",
   "execution_count": 2,
   "metadata": {},
   "outputs": [
    {
     "name": "stdout",
     "output_type": "stream",
     "text": [
      "(8472, 3)\n",
      "                            0                                        1  \\\n",
      "134123   [i, have, a, really]        [cute, outfit, for, tonight, but]   \n",
      "134124   [we, can, hold, our]      [hands, together, through, the, oh]   \n",
      "134125   [you, my, hero, man]  [get, well, soon, i, loved, you, since]   \n",
      "134126  [my, biggest, guilty]           [pleasure, is, probably, punk]   \n",
      "134127  [yes, daddy, tie, me]    [up, choke, me, to, dead, and, leave]   \n",
      "\n",
      "                                   2  \n",
      "134123       [i, can, not, find, it]  \n",
      "134124    [oh, through, the, oh, oh]  \n",
      "134125  [here, in, the, real, world]  \n",
      "134126      [covers, of, pop, songs]  \n",
      "134127           [my, body, to, rot]  \n"
     ]
    },
    {
     "data": {
      "text/html": [
       "<div>\n",
       "<style scoped>\n",
       "    .dataframe tbody tr th:only-of-type {\n",
       "        vertical-align: middle;\n",
       "    }\n",
       "\n",
       "    .dataframe tbody tr th {\n",
       "        vertical-align: top;\n",
       "    }\n",
       "\n",
       "    .dataframe thead th {\n",
       "        text-align: right;\n",
       "    }\n",
       "</style>\n",
       "<table border=\"1\" class=\"dataframe\">\n",
       "  <thead>\n",
       "    <tr style=\"text-align: right;\">\n",
       "      <th></th>\n",
       "      <th>0</th>\n",
       "      <th>1</th>\n",
       "      <th>2</th>\n",
       "      <th>joined_sents</th>\n",
       "      <th>sent_len</th>\n",
       "      <th>tagged_sents</th>\n",
       "    </tr>\n",
       "  </thead>\n",
       "  <tbody>\n",
       "    <tr>\n",
       "      <th>134123</th>\n",
       "      <td>[i, have, a, really]</td>\n",
       "      <td>[cute, outfit, for, tonight, but]</td>\n",
       "      <td>[i, can, not, find, it]</td>\n",
       "      <td>[i, have, a, really, cute, outfit, for, tonigh...</td>\n",
       "      <td>[4, 5, 5]</td>\n",
       "      <td>[(i, NNS), (have, VBP), (a, DT), (really, RB),...</td>\n",
       "    </tr>\n",
       "    <tr>\n",
       "      <th>134124</th>\n",
       "      <td>[we, can, hold, our]</td>\n",
       "      <td>[hands, together, through, the, oh]</td>\n",
       "      <td>[oh, through, the, oh, oh]</td>\n",
       "      <td>[we, can, hold, our, hands, together, through,...</td>\n",
       "      <td>[4, 5, 5]</td>\n",
       "      <td>[(we, PRP), (can, MD), (hold, VB), (our, PRP$)...</td>\n",
       "    </tr>\n",
       "    <tr>\n",
       "      <th>134125</th>\n",
       "      <td>[you, my, hero, man]</td>\n",
       "      <td>[get, well, soon, i, loved, you, since]</td>\n",
       "      <td>[here, in, the, real, world]</td>\n",
       "      <td>[you, my, hero, man, get, well, soon, i, loved...</td>\n",
       "      <td>[4, 7, 5]</td>\n",
       "      <td>[(you, PRP), (my, PRP$), (hero, NN), (man, NN)...</td>\n",
       "    </tr>\n",
       "    <tr>\n",
       "      <th>134126</th>\n",
       "      <td>[my, biggest, guilty]</td>\n",
       "      <td>[pleasure, is, probably, punk]</td>\n",
       "      <td>[covers, of, pop, songs]</td>\n",
       "      <td>[my, biggest, guilty, pleasure, is, probably, ...</td>\n",
       "      <td>[3, 4, 4]</td>\n",
       "      <td>[(my, PRP$), (biggest, JJS), (guilty, JJ), (pl...</td>\n",
       "    </tr>\n",
       "    <tr>\n",
       "      <th>134127</th>\n",
       "      <td>[yes, daddy, tie, me]</td>\n",
       "      <td>[up, choke, me, to, dead, and, leave]</td>\n",
       "      <td>[my, body, to, rot]</td>\n",
       "      <td>[yes, daddy, tie, me, up, choke, me, to, dead,...</td>\n",
       "      <td>[4, 7, 4]</td>\n",
       "      <td>[(yes, RB), (daddy, JJ), (tie, NNS), (me, PRP)...</td>\n",
       "    </tr>\n",
       "  </tbody>\n",
       "</table>\n",
       "</div>"
      ],
      "text/plain": [
       "                            0                                        1  \\\n",
       "134123   [i, have, a, really]        [cute, outfit, for, tonight, but]   \n",
       "134124   [we, can, hold, our]      [hands, together, through, the, oh]   \n",
       "134125   [you, my, hero, man]  [get, well, soon, i, loved, you, since]   \n",
       "134126  [my, biggest, guilty]           [pleasure, is, probably, punk]   \n",
       "134127  [yes, daddy, tie, me]    [up, choke, me, to, dead, and, leave]   \n",
       "\n",
       "                                   2  \\\n",
       "134123       [i, can, not, find, it]   \n",
       "134124    [oh, through, the, oh, oh]   \n",
       "134125  [here, in, the, real, world]   \n",
       "134126      [covers, of, pop, songs]   \n",
       "134127           [my, body, to, rot]   \n",
       "\n",
       "                                             joined_sents   sent_len  \\\n",
       "134123  [i, have, a, really, cute, outfit, for, tonigh...  [4, 5, 5]   \n",
       "134124  [we, can, hold, our, hands, together, through,...  [4, 5, 5]   \n",
       "134125  [you, my, hero, man, get, well, soon, i, loved...  [4, 7, 5]   \n",
       "134126  [my, biggest, guilty, pleasure, is, probably, ...  [3, 4, 4]   \n",
       "134127  [yes, daddy, tie, me, up, choke, me, to, dead,...  [4, 7, 4]   \n",
       "\n",
       "                                             tagged_sents  \n",
       "134123  [(i, NNS), (have, VBP), (a, DT), (really, RB),...  \n",
       "134124  [(we, PRP), (can, MD), (hold, VB), (our, PRP$)...  \n",
       "134125  [(you, PRP), (my, PRP$), (hero, NN), (man, NN)...  \n",
       "134126  [(my, PRP$), (biggest, JJS), (guilty, JJ), (pl...  \n",
       "134127  [(yes, RB), (daddy, JJ), (tie, NNS), (me, PRP)...  "
      ]
     },
     "execution_count": 2,
     "metadata": {},
     "output_type": "execute_result"
    }
   ],
   "source": [
    "df = pd.read_csv('data\\poems\\haiku.csv')\n",
    "df = df.tail(10000)\n",
    "\n",
    "df = df[['0', '1', '2']]\n",
    "\n",
    "# get the CMU Pronouncing Dictionary\n",
    "transcr = nl.corpus.cmudict.dict()\n",
    "\n",
    "# concatenate data of all columns into one column and word tokenize\n",
    "df['0'] = df['0'].apply(lambda x: [w.lower() for w in nl.tokenize.word_tokenize(x) if w.isalpha()])\n",
    "df['1'] = df['1'].apply(lambda x: [w.lower() for w in nl.tokenize.word_tokenize(x) if w.isalpha()])\n",
    "df['2'] = df['2'].apply(lambda x: [w.lower() for w in nl.tokenize.word_tokenize(x) if w.isalpha()])\n",
    "\n",
    "def get_syllables(word):\n",
    "    if word in transcr:\n",
    "        pron = transcr[word][0]\n",
    "\n",
    "        # get the number of syllables in the word\n",
    "        syllable_count = sum(y.isdigit() for x in pron for y in x)\n",
    "        return syllable_count\n",
    "    return 0\n",
    "\n",
    "# check the amount of syllables in the sentence\n",
    "for ind, row in df.iterrows():\n",
    "    sentence_syl_count = sum(get_syllables(w) for w in row['0'])\n",
    "    sentence_syl_count += sum(get_syllables(w) for w in row['1'])\n",
    "    sentence_syl_count += sum(get_syllables(w) for w in row['2'])\n",
    "\n",
    "    if(sentence_syl_count != 17):\n",
    "        df = df.drop(ind)  # haiku must have 17 syllables\n",
    "\n",
    "print(df.shape)\n",
    "\n",
    "print(df.head())\n",
    "# tag the tokenized sentences\n",
    "\n",
    "df['joined_sents'] = df.apply(lambda x: [*x['0'], *x['1'], *x['2']], axis=1)\n",
    "df['sent_len'] = df.apply(lambda x: [len(x['0']), len(x['1']), len(x['2'])], axis=1)\n",
    "\n",
    "\n",
    "df['tagged_sents'] = df['joined_sents'].apply(lambda x: nl.pos_tag(x))\n",
    "\n",
    "df.head(5)"
   ]
  },
  {
   "cell_type": "code",
   "execution_count": 18,
   "metadata": {},
   "outputs": [
    {
     "name": "stdout",
     "output_type": "stream",
     "text": [
      "Total amount of sample 108143\n",
      "Total classes 9551\n",
      "Index(['i', 'the', 'to', 'a', 'you', 'and', 'my', 'is', 'it', 'of', 'in', 'me',\n",
      "       'for', 'do', 'that', 'this', 'so', 'be', 'on', 'just', 'with', 'but',\n",
      "       'not', 'have', 'your', 'like', 'all', 'are', 'get', 'when', 'can', 'if',\n",
      "       'people', 'what', 'up', 'out', 'was', 'at', 'really', 'they', 'love',\n",
      "       'how', 'one', 'no', 'about', 'got', 'we', 'will', 'time', 'go'],\n",
      "      dtype='object')\n"
     ]
    },
    {
     "name": "stderr",
     "output_type": "stream",
     "text": [
      "C:\\Users\\Sava\\.virtualenvs\\crea-2-w6Y9zmrs\\lib\\site-packages\\seaborn\\_decorators.py:36: FutureWarning: Pass the following variables as keyword args: x, y. From version 0.12, the only valid positional argument will be `data`, and passing other arguments without an explicit keyword will result in an error or misinterpretation.\n",
      "  warnings.warn(\n"
     ]
    },
    {
     "data": {
      "text/html": [
       "<div>\n",
       "<style scoped>\n",
       "    .dataframe tbody tr th:only-of-type {\n",
       "        vertical-align: middle;\n",
       "    }\n",
       "\n",
       "    .dataframe tbody tr th {\n",
       "        vertical-align: top;\n",
       "    }\n",
       "\n",
       "    .dataframe thead th {\n",
       "        text-align: right;\n",
       "    }\n",
       "</style>\n",
       "<table border=\"1\" class=\"dataframe\">\n",
       "  <thead>\n",
       "    <tr style=\"text-align: right;\">\n",
       "      <th></th>\n",
       "      <th>0</th>\n",
       "      <th>1</th>\n",
       "      <th>2</th>\n",
       "      <th>joined_sents</th>\n",
       "      <th>sent_len</th>\n",
       "      <th>tagged_sents</th>\n",
       "    </tr>\n",
       "  </thead>\n",
       "  <tbody>\n",
       "    <tr>\n",
       "      <th>134123</th>\n",
       "      <td>[i, have, a, really]</td>\n",
       "      <td>[cute, outfit, for, tonight, but]</td>\n",
       "      <td>[i, can, not, find, it]</td>\n",
       "      <td>i</td>\n",
       "      <td>[4, 5, 5]</td>\n",
       "      <td>[(i, NNS), (have, VBP), (a, DT), (really, RB),...</td>\n",
       "    </tr>\n",
       "    <tr>\n",
       "      <th>134123</th>\n",
       "      <td>[i, have, a, really]</td>\n",
       "      <td>[cute, outfit, for, tonight, but]</td>\n",
       "      <td>[i, can, not, find, it]</td>\n",
       "      <td>have</td>\n",
       "      <td>[4, 5, 5]</td>\n",
       "      <td>[(i, NNS), (have, VBP), (a, DT), (really, RB),...</td>\n",
       "    </tr>\n",
       "    <tr>\n",
       "      <th>134123</th>\n",
       "      <td>[i, have, a, really]</td>\n",
       "      <td>[cute, outfit, for, tonight, but]</td>\n",
       "      <td>[i, can, not, find, it]</td>\n",
       "      <td>a</td>\n",
       "      <td>[4, 5, 5]</td>\n",
       "      <td>[(i, NNS), (have, VBP), (a, DT), (really, RB),...</td>\n",
       "    </tr>\n",
       "  </tbody>\n",
       "</table>\n",
       "</div>"
      ],
      "text/plain": [
       "                           0                                  1  \\\n",
       "134123  [i, have, a, really]  [cute, outfit, for, tonight, but]   \n",
       "134123  [i, have, a, really]  [cute, outfit, for, tonight, but]   \n",
       "134123  [i, have, a, really]  [cute, outfit, for, tonight, but]   \n",
       "\n",
       "                              2 joined_sents   sent_len  \\\n",
       "134123  [i, can, not, find, it]            i  [4, 5, 5]   \n",
       "134123  [i, can, not, find, it]         have  [4, 5, 5]   \n",
       "134123  [i, can, not, find, it]            a  [4, 5, 5]   \n",
       "\n",
       "                                             tagged_sents  \n",
       "134123  [(i, NNS), (have, VBP), (a, DT), (really, RB),...  \n",
       "134123  [(i, NNS), (have, VBP), (a, DT), (really, RB),...  \n",
       "134123  [(i, NNS), (have, VBP), (a, DT), (really, RB),...  "
      ]
     },
     "execution_count": 18,
     "metadata": {},
     "output_type": "execute_result"
    },
    {
     "data": {
      "image/png": "[encoded data removed]",
      "text/plain": [
       "<Figure size 720x720 with 1 Axes>"
      ]
     },
     "metadata": {},
     "output_type": "display_data"
    }
   ],
   "source": [
    "unit = df.explode('joined_sents')\n",
    "\n",
    "print('Total amount of sample', unit['joined_sents'].count())\n",
    "print('Total classes', unit['joined_sents'].nunique())\n",
    "\n",
    "\n",
    "sns.set_theme()\n",
    "# create new figure\n",
    "fig, ax = plt.subplots(figsize=(10, 10))\n",
    "\n",
    "# get the amount of words in each class\n",
    "data = unit['joined_sents'].value_counts()[:50]\n",
    "\n",
    "print(data.index)\n",
    "\n",
    "plt.xticks(rotation=90)\n",
    "sns.barplot(data.index, data.values, alpha=0.8, color='blue', ax=ax)\n",
    "\n",
    "unit.head(3)"
   ]
  },
  {
   "cell_type": "code",
   "execution_count": 46,
   "metadata": {},
   "outputs": [],
   "source": [
    "def pos_features(sentence, i):\n",
    "    word = sentence[i][0]\n",
    "    tag = sentence[i][1]\n",
    "\n",
    "    features = {\n",
    "        \"bias\": 1.0,\n",
    "        \"suffix(1)\": word[-1:],\n",
    "        \"suffix(2)\": word[-2:],\n",
    "        \"suffix(3)\": word[-3:],\n",
    "        \"word\":word,\n",
    "        \"pos\": tag\n",
    "    }\n",
    "\n",
    "    # count number of current word in sentence\n",
    "    features[\"count\"] = sentence.count(word)\n",
    "\n",
    "    features.update(get_n_word(sentence, i, -1))\n",
    "    # features.update(get_n_word(sentence, i, -2))\n",
    "\n",
    "    return features\n",
    "\n",
    "\n",
    "def get_n_word(sentence, i, n):\n",
    "    if i + n < 0:\n",
    "        return {\n",
    "            \"SOS\": True\n",
    "        }\n",
    "    return {\n",
    "        f'{n}:word': sentence[i + n][0],\n",
    "        f'{n}:word:pos': sentence[i + n][1],\n",
    "    }\n",
    "\n",
    "\n",
    "def get_next_word(sentence, i):\n",
    "    if i + 1 >= len(sentence):\n",
    "        return \"<END>\"\n",
    "    return sentence[i+1]\n",
    "\n",
    "\n",
    "featuresets = []\n",
    "for ind, row in df.iterrows():\n",
    "    featuresets.append([])\n",
    "    for i, (word, tag) in list(enumerate(row['tagged_sents']))[:-1]:\n",
    "        featuresets[-1].append((pos_features(row['tagged_sents'], i), get_next_word(row['joined_sents'], i)))\n",
    "    \n",
    "    featuresets[-1].append((pos_features(['SOS'], 0), row['joined_sents'][0]))\n",
    "    \n",
    "\n",
    "size = int(len(featuresets) * 0.1)\n",
    "\n",
    "\n",
    "def flatten(t):\n",
    "    return [item for sublist in t for item in sublist]\n",
    "\n",
    "\n",
    "f_f = flatten(featuresets)\n",
    "\n",
    "train_set, test_set = f_f[size:], f_f[:size]\n"
   ]
  },
  {
   "cell_type": "code",
   "execution_count": 43,
   "metadata": {},
   "outputs": [],
   "source": [
    "classifier = nl.NaiveBayesClassifier.train(train_set)"
   ]
  },
  {
   "cell_type": "code",
   "execution_count": 27,
   "metadata": {},
   "outputs": [],
   "source": [
    "# classifier2 = SklearnClassifier(naive_bayes.MultinomialNB()).train(train_set)"
   ]
  },
  {
   "cell_type": "code",
   "execution_count": 45,
   "metadata": {},
   "outputs": [
    {
     "name": "stdout",
     "output_type": "stream",
     "text": [
      "({'bias': 1.0, 'suffix(1)': 't', 'suffix(2)': 'st', 'suffix(3)': 'est', 'word': 'best', 'pos': 'JJS', 'count': 0, '-1:word': 'your', '-1:word:pos': 'PRP$'}, 'friend')\n"
     ]
    },
    {
     "data": {
      "text/plain": [
       "[('best', 'JJS'),\n",
       " ('thing', 'NN'),\n",
       " ('in', 'IN'),\n",
       " ('the', 'DT'),\n",
       " ('world', 'NN'),\n",
       " ('have', 'VB'),\n",
       " ('to', 'TO'),\n",
       " ('be', 'VB'),\n",
       " ('a', 'DT'),\n",
       " ('good', 'JJ'),\n",
       " ('thing', 'NN')]"
      ]
     },
     "execution_count": 45,
     "metadata": {},
     "output_type": "execute_result"
    }
   ],
   "source": [
    "import random\n",
    "\n",
    "sample = random.choice(train_set)\n",
    "print(sample)\n",
    "\n",
    "prev_word = sample[0]['word']\n",
    "postag = nl.tag.pos_tag([prev_word])[0][1]\n",
    "poem = [(prev_word, postag)]\n",
    "\n",
    "i = 0\n",
    "while i < 10:\n",
    "    vector = pos_features(poem, i)\n",
    "    prev_word =  classifier.prob_classify(vector).generate()\n",
    "    postag = nl.tag.pos_tag([prev_word])[0][1]\n",
    "    poem.append((prev_word, postag))\n",
    "    i += 1\n",
    "\n",
    "poem"
   ]
  },
  {
   "cell_type": "code",
   "execution_count": 11,
   "metadata": {},
   "outputs": [
    {
     "data": {
      "text/plain": [
       "0.1192443919716647"
      ]
     },
     "execution_count": 11,
     "metadata": {},
     "output_type": "execute_result"
    }
   ],
   "source": [
    "nl.classify.accuracy(classifier2, test_set)\n"
   ]
  },
  {
   "cell_type": "code",
   "execution_count": 55,
   "metadata": {},
   "outputs": [
    {
     "data": {
      "text/plain": [
       "'ca'"
      ]
     },
     "execution_count": 55,
     "metadata": {},
     "output_type": "execute_result"
    }
   ],
   "source": [
    "classifier.prob_classify(f_f[0][0]).generate()"
   ]
  }
 ],
 "metadata": {
  "interpreter": {
   "hash": "2b4e8bc1b5fff3651ec28fee6c734c37e66079d3dafb6e2969224ed4a1eddf14"
  },
  "kernelspec": {
   "display_name": "Python 3.10.0 64-bit ('crea-2-w6Y9zmrs': pipenv)",
   "language": "python",
   "name": "python3"
  },
  "language_info": {
   "codemirror_mode": {
    "name": "ipython",
    "version": 3
   },
   "file_extension": ".py",
   "mimetype": "text/x-python",
   "name": "python",
   "nbconvert_exporter": "python",
   "pygments_lexer": "ipython3",
   "version": "3.9.8"
  },
  "orig_nbformat": 4
 },
 "nbformat": 4,
 "nbformat_minor": 2
}
